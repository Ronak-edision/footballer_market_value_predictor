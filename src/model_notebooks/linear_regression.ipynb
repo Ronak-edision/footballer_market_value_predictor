{
 "cells": [
  {
   "cell_type": "markdown",
   "metadata": {},
   "source": [
    "<h2>Importing required libraries"
   ]
  },
  {
   "cell_type": "code",
   "execution_count": 111,
   "metadata": {},
   "outputs": [],
   "source": [
    "import pandas as pd\n",
    "import torch\n",
    "import numpy as np\n",
    "import matplotlib.pyplot as plt\n",
    "import seaborn as sns\n",
    "from sklearn.preprocessing import StandardScaler\n",
    "from sklearn.model_selection import train_test_split\n",
    "import joblib\n",
    "from sklearn.model_selection import KFold"
   ]
  },
  {
   "cell_type": "code",
   "execution_count": 112,
   "metadata": {},
   "outputs": [],
   "source": [
    "\n",
    "pd.set_option('display.max_columns', 75)\n",
    "pd.set_option('display.max_rows', 100)"
   ]
  },
  {
   "cell_type": "code",
   "execution_count": 113,
   "metadata": {},
   "outputs": [],
   "source": [
    "df= pd.read_csv('footballer_data_cleaned.csv')\n"
   ]
  },
  {
   "cell_type": "code",
   "execution_count": 114,
   "metadata": {},
   "outputs": [
    {
     "data": {
      "text/html": [
       "<div>\n",
       "<style scoped>\n",
       "    .dataframe tbody tr th:only-of-type {\n",
       "        vertical-align: middle;\n",
       "    }\n",
       "\n",
       "    .dataframe tbody tr th {\n",
       "        vertical-align: top;\n",
       "    }\n",
       "\n",
       "    .dataframe thead th {\n",
       "        text-align: right;\n",
       "    }\n",
       "</style>\n",
       "<table border=\"1\" class=\"dataframe\">\n",
       "  <thead>\n",
       "    <tr style=\"text-align: right;\">\n",
       "      <th></th>\n",
       "      <th>Age</th>\n",
       "      <th>Dribbling / Reflexes</th>\n",
       "      <th>Passing / Kicking</th>\n",
       "      <th>Shooting / Handling</th>\n",
       "      <th>International reputation</th>\n",
       "      <th>Total mentality</th>\n",
       "      <th>Shot power</th>\n",
       "      <th>Total power</th>\n",
       "      <th>Ball control</th>\n",
       "      <th>Finishing</th>\n",
       "      <th>Log Market Value</th>\n",
       "    </tr>\n",
       "  </thead>\n",
       "  <tbody>\n",
       "    <tr>\n",
       "      <th>0</th>\n",
       "      <td>22</td>\n",
       "      <td>67</td>\n",
       "      <td>63</td>\n",
       "      <td>47</td>\n",
       "      <td>1</td>\n",
       "      <td>305</td>\n",
       "      <td>60</td>\n",
       "      <td>335</td>\n",
       "      <td>72</td>\n",
       "      <td>44</td>\n",
       "      <td>17.014184</td>\n",
       "    </tr>\n",
       "    <tr>\n",
       "      <th>1</th>\n",
       "      <td>19</td>\n",
       "      <td>76</td>\n",
       "      <td>71</td>\n",
       "      <td>70</td>\n",
       "      <td>1</td>\n",
       "      <td>99</td>\n",
       "      <td>53</td>\n",
       "      <td>218</td>\n",
       "      <td>18</td>\n",
       "      <td>8</td>\n",
       "      <td>15.520259</td>\n",
       "    </tr>\n",
       "    <tr>\n",
       "      <th>2</th>\n",
       "      <td>21</td>\n",
       "      <td>77</td>\n",
       "      <td>71</td>\n",
       "      <td>63</td>\n",
       "      <td>1</td>\n",
       "      <td>355</td>\n",
       "      <td>62</td>\n",
       "      <td>336</td>\n",
       "      <td>77</td>\n",
       "      <td>65</td>\n",
       "      <td>17.073607</td>\n",
       "    </tr>\n",
       "    <tr>\n",
       "      <th>3</th>\n",
       "      <td>18</td>\n",
       "      <td>67</td>\n",
       "      <td>67</td>\n",
       "      <td>53</td>\n",
       "      <td>1</td>\n",
       "      <td>295</td>\n",
       "      <td>60</td>\n",
       "      <td>327</td>\n",
       "      <td>71</td>\n",
       "      <td>51</td>\n",
       "      <td>15.068274</td>\n",
       "    </tr>\n",
       "    <tr>\n",
       "      <th>4</th>\n",
       "      <td>19</td>\n",
       "      <td>82</td>\n",
       "      <td>79</td>\n",
       "      <td>66</td>\n",
       "      <td>3</td>\n",
       "      <td>367</td>\n",
       "      <td>73</td>\n",
       "      <td>371</td>\n",
       "      <td>85</td>\n",
       "      <td>62</td>\n",
       "      <td>17.776324</td>\n",
       "    </tr>\n",
       "  </tbody>\n",
       "</table>\n",
       "</div>"
      ],
      "text/plain": [
       "   Age  Dribbling / Reflexes  Passing / Kicking  Shooting / Handling  \\\n",
       "0   22                    67                 63                   47   \n",
       "1   19                    76                 71                   70   \n",
       "2   21                    77                 71                   63   \n",
       "3   18                    67                 67                   53   \n",
       "4   19                    82                 79                   66   \n",
       "\n",
       "   International reputation  Total mentality  Shot power  Total power  \\\n",
       "0                         1              305          60          335   \n",
       "1                         1               99          53          218   \n",
       "2                         1              355          62          336   \n",
       "3                         1              295          60          327   \n",
       "4                         3              367          73          371   \n",
       "\n",
       "   Ball control  Finishing  Log Market Value  \n",
       "0            72         44         17.014184  \n",
       "1            18          8         15.520259  \n",
       "2            77         65         17.073607  \n",
       "3            71         51         15.068274  \n",
       "4            85         62         17.776324  "
      ]
     },
     "execution_count": 114,
     "metadata": {},
     "output_type": "execute_result"
    }
   ],
   "source": [
    "df.head()"
   ]
  },
  {
   "cell_type": "markdown",
   "metadata": {},
   "source": [
    "# Linear Regression"
   ]
  },
  {
   "cell_type": "markdown",
   "metadata": {},
   "source": [
    "<h3>Train test spilt"
   ]
  },
  {
   "cell_type": "code",
   "execution_count": 115,
   "metadata": {},
   "outputs": [],
   "source": [
    "X= df.drop('Log Market Value', axis=1)\n",
    "y= df['Log Market Value']"
   ]
  },
  {
   "cell_type": "code",
   "execution_count": 116,
   "metadata": {},
   "outputs": [],
   "source": [
    "X_train, X_test, y_train, y_test = train_test_split(X,y, test_size=0.2, random_state=42)"
   ]
  },
  {
   "cell_type": "code",
   "execution_count": 117,
   "metadata": {},
   "outputs": [
    {
     "data": {
      "text/plain": [
       "((2124, 10), (532, 10), (2124,), (532,))"
      ]
     },
     "execution_count": 117,
     "metadata": {},
     "output_type": "execute_result"
    }
   ],
   "source": [
    "X_train.shape, X_test.shape, y_train.shape, y_test.shape    "
   ]
  },
  {
   "cell_type": "code",
   "execution_count": 118,
   "metadata": {},
   "outputs": [
    {
     "data": {
      "text/plain": [
       "891     15.384126\n",
       "2243    12.524526\n",
       "1134    14.557448\n",
       "2625    13.217674\n",
       "1610    15.068274\n",
       "          ...    \n",
       "1638    17.182806\n",
       "1095    16.257858\n",
       "1130    14.946913\n",
       "1294    16.705882\n",
       "860     15.894952\n",
       "Name: Log Market Value, Length: 2124, dtype: float64"
      ]
     },
     "execution_count": 118,
     "metadata": {},
     "output_type": "execute_result"
    }
   ],
   "source": [
    "y_train"
   ]
  },
  {
   "cell_type": "markdown",
   "metadata": {},
   "source": [
    "<h3>Scaling "
   ]
  },
  {
   "cell_type": "code",
   "execution_count": 119,
   "metadata": {},
   "outputs": [],
   "source": [
    "scaler_X = StandardScaler()\n",
    "scaler_y = StandardScaler()\n",
    "X_train_scaled= scaler_X.fit_transform(X_train)\n",
    "y_train_scaled= scaler_y.fit_transform(y_train.values.reshape(-1,1))\n",
    "X_test_scaled= scaler_X.fit_transform(X_test)\n",
    "y_test_scaled= scaler_y.fit_transform(y_test.values.reshape(-1,1))"
   ]
  },
  {
   "cell_type": "code",
   "execution_count": 120,
   "metadata": {},
   "outputs": [
    {
     "data": {
      "text/plain": [
       "array([[ 0.04739965],\n",
       "       [-2.08978122],\n",
       "       [-0.57043556],\n",
       "       ...,\n",
       "       [-0.27936107],\n",
       "       [ 1.03524102],\n",
       "       [ 0.42917567]])"
      ]
     },
     "execution_count": 120,
     "metadata": {},
     "output_type": "execute_result"
    }
   ],
   "source": [
    "y_train_scaled"
   ]
  },
  {
   "cell_type": "code",
   "execution_count": 121,
   "metadata": {},
   "outputs": [
    {
     "data": {
      "text/plain": [
       "['scaler_y.pkl']"
      ]
     },
     "execution_count": 121,
     "metadata": {},
     "output_type": "execute_result"
    }
   ],
   "source": [
    "\n",
    "joblib.dump(scaler_X, 'scaler_X.pkl')\n",
    "joblib.dump(scaler_y, 'scaler_y.pkl')"
   ]
  },
  {
   "cell_type": "code",
   "execution_count": 122,
   "metadata": {},
   "outputs": [
    {
     "data": {
      "text/plain": [
       "((2124, 10), (532, 10), (2124, 1), (532,))"
      ]
     },
     "execution_count": 122,
     "metadata": {},
     "output_type": "execute_result"
    }
   ],
   "source": [
    "X_train_scaled.shape, X_test.shape, y_train_scaled.shape, y_test.shape    "
   ]
  },
  {
   "cell_type": "markdown",
   "metadata": {},
   "source": [
    "<h3>Initializing weights and biases"
   ]
  },
  {
   "cell_type": "code",
   "execution_count": 123,
   "metadata": {},
   "outputs": [],
   "source": [
    "w= torch.randn(X_train_scaled.shape[1],1)\n",
    "b= torch.randn(1)\n"
   ]
  },
  {
   "cell_type": "code",
   "execution_count": 124,
   "metadata": {},
   "outputs": [
    {
     "data": {
      "text/plain": [
       "(torch.Size([10, 1]), torch.Size([1]))"
      ]
     },
     "execution_count": 124,
     "metadata": {},
     "output_type": "execute_result"
    }
   ],
   "source": [
    "w.shape, b.shape"
   ]
  },
  {
   "cell_type": "code",
   "execution_count": 125,
   "metadata": {},
   "outputs": [],
   "source": [
    "X_train_scaled= torch.tensor(X_train_scaled, dtype=torch.float32)\n",
    "y_train_scaled= torch.tensor(y_train_scaled, dtype=torch.float32)"
   ]
  },
  {
   "cell_type": "code",
   "execution_count": 126,
   "metadata": {},
   "outputs": [
    {
     "name": "stdout",
     "output_type": "stream",
     "text": [
      "Epoch 1, Loss 23.929916381835938\n",
      "Epoch 101, Loss 0.6237858533859253\n",
      "Epoch 201, Loss 0.38418906927108765\n"
     ]
    }
   ],
   "source": [
    "epochs= 250\n",
    "lr= 0.01\n",
    "train_loss=[]\n",
    "\n",
    "for epoch in range(epochs):\n",
    "    \n",
    "    \n",
    "    y_pred= X_train_scaled@ w+b\n",
    "    Loss= y_pred-y_train_scaled\n",
    "\n",
    "    n= len(y_train_scaled)\n",
    "\n",
    "    mse= (1/n)*torch.sum(Loss**2)\n",
    "\n",
    "\n",
    "\n",
    "    dw= (2/n)*(X_train_scaled.T@Loss)\n",
    "    db= (2/n)*(torch.sum(Loss))\n",
    "\n",
    "    w-= lr*dw\n",
    "    b-= lr*db\n",
    "    \n",
    "        \n",
    "    train_loss.append(mse.item())\n",
    "    \n",
    "    if epoch%100==0:\n",
    "        print(f'Epoch {epoch+1}, Loss {mse.item()}')"
   ]
  },
  {
   "cell_type": "code",
   "execution_count": 127,
   "metadata": {},
   "outputs": [
    {
     "data": {
      "image/png": "[encoded data removed]",
      "text/plain": [
       "<Figure size 1000x600 with 1 Axes>"
      ]
     },
     "metadata": {},
     "output_type": "display_data"
    }
   ],
   "source": [
    "plt.figure(figsize=(10, 6))\n",
    "plt.plot(range(epochs), train_loss, label=\"Loss\")\n",
    "\n",
    "plt.title(\"Loss vs Epochs\")\n",
    "plt.xlabel(\"Epochs\")\n",
    "plt.ylabel(\"Loss\")\n",
    "plt.legend()\n",
    "plt.grid()\n",
    "plt.show()\n"
   ]
  },
  {
   "cell_type": "markdown",
   "metadata": {},
   "source": [
    "# Validation"
   ]
  },
  {
   "cell_type": "code",
   "execution_count": 128,
   "metadata": {},
   "outputs": [
    {
     "name": "stdout",
     "output_type": "stream",
     "text": [
      "R² Score: 0.6572085022926331\n"
     ]
    }
   ],
   "source": [
    "# R² Score Calculation\n",
    "y_test_scaled = torch.tensor(y_test_scaled, dtype=torch.float32)\n",
    "X_test_scaled = torch.tensor(X_test_scaled, dtype=torch.float32)\n",
    "\n",
    "# Predictions on test data\n",
    "y_pred = X_test_scaled @ w + b\n",
    "\n",
    "# Compute R² score\n",
    "ss_total = torch.sum((y_test_scaled[:, 0] - torch.mean(y_test_scaled[:, 0])) ** 2) #sum of squared error in the mean line\n",
    "ss_residual = torch.sum((y_test_scaled[:, 0] - y_pred.squeeze()) ** 2) #sum of squared error in the regression line\n",
    "\n",
    "r2_score = 1 - (ss_residual / ss_total)\n",
    "print(f\"R² Score: {r2_score.item()}\")"
   ]
  },
  {
   "cell_type": "markdown",
   "metadata": {},
   "source": [
    "<h2>Cross Validation for MSE"
   ]
  },
  {
   "cell_type": "code",
   "execution_count": 129,
   "metadata": {},
   "outputs": [
    {
     "name": "stdout",
     "output_type": "stream",
     "text": [
      "Fold 1/5\n"
     ]
    },
    {
     "name": "stderr",
     "output_type": "stream",
     "text": [
      "/tmp/ipykernel_1718/967078122.py:4: UserWarning: To copy construct from a tensor, it is recommended to use sourceTensor.clone().detach() or sourceTensor.clone().detach().requires_grad_(True), rather than torch.tensor(sourceTensor).\n",
      "  X_scaled_tensor = torch.tensor(X_train_scaled, dtype=torch.float32)\n",
      "/tmp/ipykernel_1718/967078122.py:5: UserWarning: To copy construct from a tensor, it is recommended to use sourceTensor.clone().detach() or sourceTensor.clone().detach().requires_grad_(True), rather than torch.tensor(sourceTensor).\n",
      "  y_scaled_tensor = torch.tensor(y_train_scaled, dtype=torch.float32)\n"
     ]
    },
    {
     "name": "stdout",
     "output_type": "stream",
     "text": [
      "Fold 1 R²: 0.6288, MAE: 5590333.0000, MSE: 110179425189888.0000\n",
      "Fold 2/5\n",
      "Fold 2 R²: 0.7434, MAE: 5377689.5000, MSE: 101177081462784.0000\n",
      "Fold 3/5\n",
      "Fold 3 R²: 0.3970, MAE: 5716121.0000, MSE: 147913724395520.0000\n",
      "Fold 4/5\n",
      "Fold 4 R²: 0.5651, MAE: 4764440.0000, MSE: 100100093247488.0000\n",
      "Fold 5/5\n",
      "Fold 5 R²: 0.5955, MAE: 4913557.0000, MSE: 97968564731904.0000\n",
      "\n",
      "Average R² Across Folds: 0.5860\n",
      "Average MAE Across Folds: 5272428.1000\n",
      "Average MSE Across Folds: 111467777805516.7969\n"
     ]
    }
   ],
   "source": [
    "k = 5\n",
    "kf = KFold(n_splits=k, shuffle=True, random_state=42)\n",
    "\n",
    "X_scaled_tensor = torch.tensor(X_train_scaled, dtype=torch.float32)\n",
    "y_scaled_tensor = torch.tensor(y_train_scaled, dtype=torch.float32)\n",
    "\n",
    "cv_r2_scores = []\n",
    "cv_mae_scores = []\n",
    "cv_mse_scores = []\n",
    "\n",
    "for fold, (train_idx, val_idx) in enumerate(kf.split(X_scaled_tensor)):\n",
    "    print(f\"Fold {fold + 1}/{k}\")\n",
    "    \n",
    "    # Split into train and validation sets\n",
    "    X_train_fold = X_scaled_tensor[train_idx]\n",
    "    y_train_fold = y_scaled_tensor[train_idx]\n",
    "    X_val_fold = X_scaled_tensor[val_idx]\n",
    "    y_val_fold = y_scaled_tensor[val_idx]\n",
    "    \n",
    "    # Initialize weights and bias\n",
    "    w = torch.zeros((X_train_fold.shape[1], 1), dtype=torch.float32, requires_grad=False)\n",
    "    b = torch.zeros(1, dtype=torch.float32, requires_grad=False)\n",
    "    \n",
    "    epochs = 2000\n",
    "    lr = 0.01\n",
    "    loss_history = []\n",
    "    \n",
    "    for epoch in range(epochs):\n",
    "        # Predictions\n",
    "        y_hat = X_train_fold @ w + b\n",
    "        \n",
    "        # Error\n",
    "        error = y_hat - y_train_fold[:, 0:1]\n",
    "        \n",
    "        # MSE\n",
    "        loss = torch.mean(error**2)\n",
    "        loss_history.append(loss.item())\n",
    "        \n",
    "        # Gradients\n",
    "        n = len(X_train_fold)\n",
    "        grad_w = (1 / n) * (X_train_fold.T @ error)\n",
    "        grad_b = torch.mean(error)\n",
    "        \n",
    "        w -= lr * grad_w\n",
    "        b -= lr * grad_b\n",
    "    \n",
    "    # Validation predictions (scaled)\n",
    "    y_val_pred = X_val_fold @ w + b\n",
    "    \n",
    "    # Transform predictions and actual values back to the original scale\n",
    "    y_val_pred_scaled = scaler_y.inverse_transform(y_val_pred.detach().numpy())\n",
    "    y_val_actual_scaled = scaler_y.inverse_transform(y_val_fold[:, 0].detach().numpy().reshape(-1, 1))\n",
    "    \n",
    "    y_val_pred_original = np.exp(y_val_pred_scaled) \n",
    "    y_val_actual_original = np.exp(y_val_actual_scaled)  \n",
    "    \n",
    "    # R² Calculation\n",
    "    ss_total = np.sum((y_val_actual_original - np.mean(y_val_actual_original)) ** 2)\n",
    "    ss_residual = np.sum((y_val_actual_original - y_val_pred_original) ** 2)\n",
    "    r2_score = 1 - (ss_residual / ss_total)\n",
    "    cv_r2_scores.append(r2_score)\n",
    "    \n",
    "    # MAE and MSE Calculation (after prediction, back to original scale)\n",
    "    mae = np.mean(np.abs(y_val_actual_original - y_val_pred_original))\n",
    "    mse = np.mean((y_val_actual_original - y_val_pred_original) ** 2)\n",
    "    cv_mae_scores.append(mae)\n",
    "    cv_mse_scores.append(mse)\n",
    "    \n",
    "    print(f\"Fold {fold + 1} R²: {r2_score:.4f}, MAE: {mae:.4f}, MSE: {mse:.4f}\")\n",
    "\n",
    "# Average scores across folds\n",
    "mean_r2_score = sum(cv_r2_scores) / len(cv_r2_scores)\n",
    "mean_mae_score = sum(cv_mae_scores) / len(cv_mae_scores)\n",
    "mean_mse_score = sum(cv_mse_scores) / len(cv_mse_scores)\n",
    "\n",
    "print(f\"\\nAverage R² Across Folds: {mean_r2_score:.4f}\")\n",
    "print(f\"Average MAE Across Folds: {mean_mae_score:.4f}\")\n",
    "print(f\"Average MSE Across Folds: {mean_mse_score:.4f}\")\n"
   ]
  },
  {
   "cell_type": "code",
   "execution_count": 130,
   "metadata": {},
   "outputs": [],
   "source": [
    "# Save the trained model\n"
   ]
  },
  {
   "cell_type": "code",
   "execution_count": 131,
   "metadata": {},
   "outputs": [],
   "source": [
    "torch.save({'weights': w, 'bias': b}, 'linear_regression_model.pth')\n"
   ]
  },
  {
   "cell_type": "code",
   "execution_count": 132,
   "metadata": {},
   "outputs": [
    {
     "ename": "NameError",
     "evalue": "name 'stop' is not defined",
     "output_type": "error",
     "traceback": [
      "\u001b[0;31m---------------------------------------------------------------------------\u001b[0m",
      "\u001b[0;31mNameError\u001b[0m                                 Traceback (most recent call last)",
      "Cell \u001b[0;32mIn[132], line 1\u001b[0m\n\u001b[0;32m----> 1\u001b[0m stop\u001b[38;5;241m.\u001b[39mer\n",
      "\u001b[0;31mNameError\u001b[0m: name 'stop' is not defined"
     ]
    }
   ],
   "source": [
    "stop.er"
   ]
  },
  {
   "cell_type": "markdown",
   "metadata": {},
   "source": [
    "# Inferencing "
   ]
  },
  {
   "cell_type": "code",
   "execution_count": null,
   "metadata": {},
   "outputs": [],
   "source": [
    "# Initialize empty list for features\n",
    "feature_names = [\n",
    "    \"Age\", \"Dribbling / Reflexes\", \"Passing / Kicking\", \"Shooting / Handling\",\n",
    "    \"International reputation\", \"Total mentality\", \"Shot power\",\n",
    "    \"Total power\", \"Ball control\", \"Finishing\"\n",
    "]\n",
    "\n",
    "# Collect user input for each feature\n",
    "player_features = []\n",
    "for feature in feature_names:\n",
    "    value = float(input(f\"Enter value for {feature}: \"))\n",
    "    player_features.append(value)\n",
    "\n",
    "# Convert input to a NumPy array and reshape for scaling\n",
    "player_features = np.array(player_features).reshape(1, -1)\n",
    "\n",
    "# Scale the input features using the pre-fitted scaler\n",
    "player_features_scaled = scaler_X.transform(player_features)\n",
    "\n",
    "# Convert to PyTorch tensor\n",
    "player_features_tensor = torch.tensor(player_features_scaled, dtype=torch.float32)\n",
    "\n",
    "# Perform prediction in the log domain\n",
    "log_market_value = player_features_tensor @ w + b\n",
    "\n",
    "# Convert to NumPy and reverse scaling\n",
    "log_market_value_numpy = log_market_value.detach().numpy().reshape(-1, 1)\n",
    "predicted_value_scaled = scaler_y.inverse_transform(log_market_value_numpy)\n",
    "\n",
    "# Convert back to PyTorch tensor to apply torch.exp\n",
    "predicted_value_tensor = torch.tensor(predicted_value_scaled, dtype=torch.float32)\n",
    "predicted_value = torch.exp(predicted_value_tensor)  # Reverse logarithmic transformation\n",
    "predicted_value = predicted_value.item()  # Extract scalar value\n",
    "\n",
    "print(f\"Predicted Market Value: {predicted_value:.2f}\")"
   ]
  }
 ],
 "metadata": {
  "kernelspec": {
   "display_name": "bajra_venv",
   "language": "python",
   "name": "python3"
  },
  "language_info": {
   "codemirror_mode": {
    "name": "ipython",
    "version": 3
   },
   "file_extension": ".py",
   "mimetype": "text/x-python",
   "name": "python",
   "nbconvert_exporter": "python",
   "pygments_lexer": "ipython3",
   "version": "3.12.7"
  }
 },
 "nbformat": 4,
 "nbformat_minor": 2
}
