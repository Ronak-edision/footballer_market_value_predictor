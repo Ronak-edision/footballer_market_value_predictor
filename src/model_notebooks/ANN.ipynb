{
 "cells": [
  {
   "cell_type": "markdown",
   "metadata": {},
   "source": [
    "# Import required libraries"
   ]
  },
  {
   "cell_type": "code",
   "execution_count": 31,
   "metadata": {},
   "outputs": [],
   "source": [
    "import torch\n",
    "import pandas as pd\n",
    "import numpy as np\n",
    "import matplotlib.pyplot as plt\n",
    "from sklearn.model_selection import train_test_split\n",
    "from sklearn.preprocessing import StandardScaler\n",
    "from sklearn.metrics import mean_squared_error, r2_score, mean_absolute_error\n",
    "from sklearn.model_selection import KFold"
   ]
  },
  {
   "cell_type": "code",
   "execution_count": 2,
   "metadata": {},
   "outputs": [],
   "source": [
    "\n",
    "pd.set_option('display.max_columns', 75)\n",
    "pd.set_option('display.max_rows', 100)"
   ]
  },
  {
   "cell_type": "code",
   "execution_count": 3,
   "metadata": {},
   "outputs": [],
   "source": [
    "df= pd.read_csv('footballer_data_cleaned.csv')\n"
   ]
  },
  {
   "cell_type": "code",
   "execution_count": 4,
   "metadata": {},
   "outputs": [
    {
     "data": {
      "text/html": [
       "<div>\n",
       "<style scoped>\n",
       "    .dataframe tbody tr th:only-of-type {\n",
       "        vertical-align: middle;\n",
       "    }\n",
       "\n",
       "    .dataframe tbody tr th {\n",
       "        vertical-align: top;\n",
       "    }\n",
       "\n",
       "    .dataframe thead th {\n",
       "        text-align: right;\n",
       "    }\n",
       "</style>\n",
       "<table border=\"1\" class=\"dataframe\">\n",
       "  <thead>\n",
       "    <tr style=\"text-align: right;\">\n",
       "      <th></th>\n",
       "      <th>Age</th>\n",
       "      <th>Dribbling / Reflexes</th>\n",
       "      <th>Passing / Kicking</th>\n",
       "      <th>Shooting / Handling</th>\n",
       "      <th>International reputation</th>\n",
       "      <th>Total mentality</th>\n",
       "      <th>Shot power</th>\n",
       "      <th>Total power</th>\n",
       "      <th>Ball control</th>\n",
       "      <th>Finishing</th>\n",
       "      <th>Log Market Value</th>\n",
       "    </tr>\n",
       "  </thead>\n",
       "  <tbody>\n",
       "    <tr>\n",
       "      <th>0</th>\n",
       "      <td>22</td>\n",
       "      <td>67</td>\n",
       "      <td>63</td>\n",
       "      <td>47</td>\n",
       "      <td>1</td>\n",
       "      <td>305</td>\n",
       "      <td>60</td>\n",
       "      <td>335</td>\n",
       "      <td>72</td>\n",
       "      <td>44</td>\n",
       "      <td>17.014184</td>\n",
       "    </tr>\n",
       "    <tr>\n",
       "      <th>1</th>\n",
       "      <td>19</td>\n",
       "      <td>76</td>\n",
       "      <td>71</td>\n",
       "      <td>70</td>\n",
       "      <td>1</td>\n",
       "      <td>99</td>\n",
       "      <td>53</td>\n",
       "      <td>218</td>\n",
       "      <td>18</td>\n",
       "      <td>8</td>\n",
       "      <td>15.520259</td>\n",
       "    </tr>\n",
       "    <tr>\n",
       "      <th>2</th>\n",
       "      <td>21</td>\n",
       "      <td>77</td>\n",
       "      <td>71</td>\n",
       "      <td>63</td>\n",
       "      <td>1</td>\n",
       "      <td>355</td>\n",
       "      <td>62</td>\n",
       "      <td>336</td>\n",
       "      <td>77</td>\n",
       "      <td>65</td>\n",
       "      <td>17.073607</td>\n",
       "    </tr>\n",
       "    <tr>\n",
       "      <th>3</th>\n",
       "      <td>18</td>\n",
       "      <td>67</td>\n",
       "      <td>67</td>\n",
       "      <td>53</td>\n",
       "      <td>1</td>\n",
       "      <td>295</td>\n",
       "      <td>60</td>\n",
       "      <td>327</td>\n",
       "      <td>71</td>\n",
       "      <td>51</td>\n",
       "      <td>15.068274</td>\n",
       "    </tr>\n",
       "    <tr>\n",
       "      <th>4</th>\n",
       "      <td>19</td>\n",
       "      <td>82</td>\n",
       "      <td>79</td>\n",
       "      <td>66</td>\n",
       "      <td>3</td>\n",
       "      <td>367</td>\n",
       "      <td>73</td>\n",
       "      <td>371</td>\n",
       "      <td>85</td>\n",
       "      <td>62</td>\n",
       "      <td>17.776324</td>\n",
       "    </tr>\n",
       "  </tbody>\n",
       "</table>\n",
       "</div>"
      ],
      "text/plain": [
       "   Age  Dribbling / Reflexes  Passing / Kicking  Shooting / Handling  \\\n",
       "0   22                    67                 63                   47   \n",
       "1   19                    76                 71                   70   \n",
       "2   21                    77                 71                   63   \n",
       "3   18                    67                 67                   53   \n",
       "4   19                    82                 79                   66   \n",
       "\n",
       "   International reputation  Total mentality  Shot power  Total power  \\\n",
       "0                         1              305          60          335   \n",
       "1                         1               99          53          218   \n",
       "2                         1              355          62          336   \n",
       "3                         1              295          60          327   \n",
       "4                         3              367          73          371   \n",
       "\n",
       "   Ball control  Finishing  Log Market Value  \n",
       "0            72         44         17.014184  \n",
       "1            18          8         15.520259  \n",
       "2            77         65         17.073607  \n",
       "3            71         51         15.068274  \n",
       "4            85         62         17.776324  "
      ]
     },
     "execution_count": 4,
     "metadata": {},
     "output_type": "execute_result"
    }
   ],
   "source": [
    "df.head()"
   ]
  },
  {
   "cell_type": "markdown",
   "metadata": {},
   "source": [
    "<h3>Train test spilt"
   ]
  },
  {
   "cell_type": "code",
   "execution_count": 5,
   "metadata": {},
   "outputs": [],
   "source": [
    "X= df.drop('Log Market Value', axis=1)\n",
    "y= df['Log Market Value']"
   ]
  },
  {
   "cell_type": "code",
   "execution_count": 6,
   "metadata": {},
   "outputs": [],
   "source": [
    "X_train, X_test, y_train, y_test = train_test_split(X,y, test_size=0.2, random_state=42)"
   ]
  },
  {
   "cell_type": "code",
   "execution_count": 7,
   "metadata": {},
   "outputs": [],
   "source": [
    "X_train, X_val, y_train, y_val = train_test_split(X_train, y_train, test_size=0.2, random_state=42)"
   ]
  },
  {
   "cell_type": "code",
   "execution_count": 8,
   "metadata": {},
   "outputs": [
    {
     "data": {
      "text/plain": [
       "((1699, 10), (532, 10), (1699,), (532,), (425, 10), (425,))"
      ]
     },
     "execution_count": 8,
     "metadata": {},
     "output_type": "execute_result"
    }
   ],
   "source": [
    "X_train.shape, X_test.shape, y_train.shape, y_test.shape, X_val.shape, y_val.shape   "
   ]
  },
  {
   "cell_type": "markdown",
   "metadata": {},
   "source": [
    "<h3>Scaling "
   ]
  },
  {
   "cell_type": "code",
   "execution_count": 9,
   "metadata": {},
   "outputs": [],
   "source": [
    "scaler_X = StandardScaler()\n",
    "scaler_y = StandardScaler()\n",
    "X_train_scaled= scaler_X.fit_transform(X_train)\n",
    "y_train_scaled= scaler_y.fit_transform(y_train.values.reshape(-1,1))\n",
    "X_test_scaled= scaler_X.fit_transform(X_test)\n",
    "y_test_scaled= scaler_y.fit_transform(y_test.values.reshape(-1,1))\n",
    "X_val_scaled= scaler_X.fit_transform(X_val)\n",
    "y_val_scaled= scaler_y.fit_transform(y_val.values.reshape(-1,1))\n"
   ]
  },
  {
   "cell_type": "code",
   "execution_count": 10,
   "metadata": {},
   "outputs": [
    {
     "data": {
      "text/plain": [
       "((1699, 10), (532, 10), (1699, 1), (532, 1), (425, 10), (425, 1))"
      ]
     },
     "execution_count": 10,
     "metadata": {},
     "output_type": "execute_result"
    }
   ],
   "source": [
    "X_train_scaled.shape, X_test.shape, y_train_scaled.shape, y_test_scaled.shape, X_val_scaled.shape, y_val_scaled.shape "
   ]
  },
  {
   "cell_type": "markdown",
   "metadata": {},
   "source": [
    "# Xavier Weight Initialization"
   ]
  },
  {
   "cell_type": "code",
   "execution_count": 11,
   "metadata": {},
   "outputs": [],
   "source": [
    "def xavier_init_uni(f_in , fan_out):\n",
    "\n",
    "    return torch.sqrt(torch.tensor(6)/(f_in+fan_out))"
   ]
  },
  {
   "cell_type": "markdown",
   "metadata": {},
   "source": [
    "# Relu function"
   ]
  },
  {
   "cell_type": "code",
   "execution_count": 12,
   "metadata": {},
   "outputs": [],
   "source": [
    "def relu(z):\n",
    "    return torch.where(z<0, 0, z)"
   ]
  },
  {
   "cell_type": "markdown",
   "metadata": {},
   "source": [
    "# Compare grad"
   ]
  },
  {
   "cell_type": "code",
   "execution_count": 13,
   "metadata": {},
   "outputs": [],
   "source": [
    "def compare_grad(name, manual_grad, tensor_with_grad):\n",
    "  exact= torch.all(manual_grad==tensor_with_grad.grad).item()\n",
    "  approximate= torch.allclose(manual_grad, tensor_with_grad.grad, atol=1e-5)\n",
    "  max_diff= (manual_grad-tensor_with_grad.grad).abs().max().item()\n",
    "  print(f'{name}: exact={exact}| approximate={approximate} |max_diff={max_diff:.6f}')"
   ]
  },
  {
   "cell_type": "markdown",
   "metadata": {},
   "source": [
    "# Two hidden layer"
   ]
  },
  {
   "cell_type": "markdown",
   "metadata": {},
   "source": [
    "<h3>Initializing weights and biases"
   ]
  },
  {
   "cell_type": "code",
   "execution_count": 14,
   "metadata": {},
   "outputs": [],
   "source": [
    "n_hidden_1= 64\n",
    "n_hidden_2= 32\n",
    "\n",
    "#hidden  layer 1\n",
    "w1= torch.empty(X_train.shape[1], n_hidden_1)\n",
    "lim= xavier_init_uni(X_train.shape[1], n_hidden_1)\n",
    "w1.uniform_(-lim, lim)\n",
    "w1.requires_grad= True\n",
    "\n",
    "b1= torch.zeros(n_hidden_1)\n",
    "b1.requires_grad= True\n",
    "\n",
    "#hidden layer 2\n",
    "w2= torch.empty(n_hidden_1, n_hidden_2)\n",
    "lim= xavier_init_uni(n_hidden_1, n_hidden_2)\n",
    "w2.uniform_(-lim, lim)\n",
    "w2.requires_grad= True\n",
    "\n",
    "b2= torch.zeros(n_hidden_2)\n",
    "b2.requires_grad= True\n",
    "\n",
    "#output layer\n",
    "w3= torch.empty(n_hidden_2, 1)\n",
    "lim= xavier_init_uni(n_hidden_2, 1)\n",
    "w3.uniform_(-lim, lim)\n",
    "w3.requires_grad= True\n",
    "\n",
    "b3= torch.zeros(1)\n",
    "b3.requires_grad= True\n",
    "\n",
    "\n"
   ]
  },
  {
   "cell_type": "code",
   "execution_count": 15,
   "metadata": {},
   "outputs": [
    {
     "data": {
      "text/plain": [
       "(torch.Size([10, 64]),\n",
       " torch.Size([64]),\n",
       " torch.Size([64, 32]),\n",
       " torch.Size([32]),\n",
       " torch.Size([32, 1]),\n",
       " torch.Size([1]))"
      ]
     },
     "execution_count": 15,
     "metadata": {},
     "output_type": "execute_result"
    }
   ],
   "source": [
    "w1.shape, b1.shape, w2.shape, b2.shape, w3.shape, b3.shape"
   ]
  },
  {
   "cell_type": "code",
   "execution_count": 16,
   "metadata": {},
   "outputs": [],
   "source": [
    "X_train_scaled= torch.tensor(X_train_scaled, dtype=torch.float32)\n",
    "y_train_scaled= torch.tensor(y_train_scaled, dtype=torch.float32)\n",
    "X_val_scaled= torch.tensor(X_val_scaled, dtype=torch.float32)\n",
    "y_val_scaled= torch.tensor(y_val_scaled, dtype=torch.float32)\n",
    "X_test_scaled= torch.tensor(X_test_scaled, dtype=torch.float32)\n",
    "y_test_scaled= torch.tensor(y_test_scaled, dtype=torch.float32)"
   ]
  },
  {
   "cell_type": "code",
   "execution_count": 17,
   "metadata": {},
   "outputs": [
    {
     "data": {
      "text/plain": [
       "torch.Size([1699, 10])"
      ]
     },
     "execution_count": 17,
     "metadata": {},
     "output_type": "execute_result"
    }
   ],
   "source": [
    "X_train_scaled.shape"
   ]
  },
  {
   "cell_type": "markdown",
   "metadata": {},
   "source": [
    "# Forward pass"
   ]
  },
  {
   "cell_type": "code",
   "execution_count": 18,
   "metadata": {},
   "outputs": [],
   "source": [
    "h1= X_train_scaled@ w1+b1\n",
    "    \n",
    "a1= relu(h1)\n",
    "#layer 2\n",
    "h2= a1@ w2+b2\n",
    "a2= relu(h2)\n",
    "#output layer\n",
    "y_pred= a2@ w3+b3\n",
    "Loss= y_pred-y_train_scaled\n",
    "n= len(y_train_scaled)\n",
    "mse= (1/n)*torch.sum(Loss**2)\n",
    "\n"
   ]
  },
  {
   "cell_type": "markdown",
   "metadata": {},
   "source": [
    "# Manual BackPass"
   ]
  },
  {
   "cell_type": "code",
   "execution_count": 19,
   "metadata": {},
   "outputs": [],
   "source": [
    "dw3= (2/n)*(a2.T@Loss)\n",
    "db3= (2/n)*(torch.sum(Loss, dim= 0))\n",
    "\n",
    "#hidden layer 2\n",
    "Loss= Loss@w3.T\n",
    "Loss *= (h2 > 0).float()  # Apply ReLU gradient\n",
    "dw2= (2/n)*(a1.T@Loss)\n",
    "db2= (2/n)*(torch.sum(Loss, dim=0))\n",
    "\n",
    "#hidden layer 1\n",
    "Loss= Loss@w2.T\n",
    "Loss *= (h1 > 0).float()  # Apply ReLU gradient\n",
    "dw1= (2/n)*(X_train_scaled.T@Loss)\n",
    "db1= (2/n)*(torch.sum(Loss, dim=0))\n"
   ]
  },
  {
   "cell_type": "markdown",
   "metadata": {},
   "source": [
    "# Autograd Backpass"
   ]
  },
  {
   "cell_type": "code",
   "execution_count": 20,
   "metadata": {},
   "outputs": [],
   "source": [
    "w1.grad= None\n",
    "b1.grad= None\n",
    "w2.grad= None\n",
    "b2.grad= None\n",
    "w3.grad= None\n",
    "b3.grad= None\n",
    "\n",
    "for i in [w1, b1, w2, b2, w3, b3]:\n",
    "    i.retain_grad()\n",
    "\n",
    "mse.backward()\n"
   ]
  },
  {
   "cell_type": "markdown",
   "metadata": {},
   "source": [
    "# Manual vs Autograd"
   ]
  },
  {
   "cell_type": "code",
   "execution_count": 21,
   "metadata": {},
   "outputs": [
    {
     "name": "stdout",
     "output_type": "stream",
     "text": [
      "dw3: exact=False| approximate=True |max_diff=0.000001\n",
      "db3: exact=False| approximate=True |max_diff=0.000000\n",
      "dw2: exact=False| approximate=True |max_diff=0.000000\n",
      "db2: exact=False| approximate=True |max_diff=0.000000\n",
      "dw1: exact=False| approximate=True |max_diff=0.000000\n",
      "db1: exact=False| approximate=True |max_diff=0.000000\n"
     ]
    }
   ],
   "source": [
    "compare_grad('dw3', dw3, w3)\n",
    "compare_grad('db3', db3, b3)\n",
    "compare_grad('dw2', dw2, w2)\n",
    "compare_grad('db2', db2, b2)\n",
    "compare_grad('dw1', dw1, w1)\n",
    "compare_grad('db1', db1, b1)\n"
   ]
  },
  {
   "cell_type": "markdown",
   "metadata": {},
   "source": [
    "<h3>Initializing weights and biases for training"
   ]
  },
  {
   "cell_type": "code",
   "execution_count": 22,
   "metadata": {},
   "outputs": [],
   "source": [
    "n_hidden_1= 64\n",
    "n_hidden_2= 32\n",
    "\n",
    "\n",
    "#hidden  layer 1\n",
    "w1= torch.empty(X_train.shape[1], n_hidden_1)\n",
    "lim= xavier_init_uni(X_train.shape[1], n_hidden_1)\n",
    "w1.uniform_(-lim, lim)\n",
    "\n",
    "b1= torch.zeros(n_hidden_1)\n",
    "\n",
    "#hidden layer 2\n",
    "w2= torch.empty(n_hidden_1, n_hidden_2)\n",
    "lim= xavier_init_uni(n_hidden_1, n_hidden_2)\n",
    "w2.uniform_(-lim, lim)\n",
    "\n",
    "b2= torch.zeros(n_hidden_2)\n",
    "\n",
    "#output layer\n",
    "w3= torch.empty(n_hidden_2, 1)\n",
    "lim= xavier_init_uni(n_hidden_2, 1)\n",
    "w3.uniform_(-lim, lim)\n",
    "\n",
    "b3= torch.zeros(1)\n"
   ]
  },
  {
   "cell_type": "markdown",
   "metadata": {},
   "source": [
    "# Training Loop"
   ]
  },
  {
   "cell_type": "code",
   "execution_count": 23,
   "metadata": {},
   "outputs": [
    {
     "name": "stdout",
     "output_type": "stream",
     "text": [
      "Epoch 1, Training Loss 1.3862228393554688, Validation Loss 0.32115882635116577\n",
      "Epoch 101, Training Loss 0.278134822845459, Validation Loss 0.0731985792517662\n",
      "Epoch 201, Training Loss 0.22694049775600433, Validation Loss 0.05932772904634476\n",
      "Epoch 301, Training Loss 0.20065093040466309, Validation Loss 0.05332484841346741\n",
      "Epoch 401, Training Loss 0.18473821878433228, Validation Loss 0.04984177649021149\n",
      "Epoch 501, Training Loss 0.1743810623884201, Validation Loss 0.047711752355098724\n"
     ]
    }
   ],
   "source": [
    "epochs= 600\n",
    "lr= 0.01\n",
    "train_loss=[]\n",
    "val_loss=[]\n",
    "\n",
    "for epoch in range(epochs):\n",
    "    #forward pass\n",
    "    #layer 1\n",
    "    h1= X_train_scaled@ w1+b1\n",
    "    \n",
    "    a1= relu(h1)\n",
    "\n",
    "    #layer 2\n",
    "    h2= a1@ w2+b2\n",
    "    a2= relu(h2)\n",
    "\n",
    "    #output layer\n",
    "    y_pred= a2@ w3+b3\n",
    "\n",
    "    Loss= y_pred-y_train_scaled\n",
    "\n",
    "    n= len(y_train_scaled)\n",
    "\n",
    "    mse= (1/n)*torch.sum(Loss**2)\n",
    "\n",
    "    train_loss.append(mse.item())\n",
    "\n",
    "\n",
    "    #backward pass\n",
    "    #output layer\n",
    "    dw3= (2/n)*(a2.T@Loss)\n",
    "    db3= (2/n)*(torch.sum(Loss))\n",
    "\n",
    "    #hidden layer 2\n",
    "    Loss= Loss@w3.T\n",
    "    Loss= Loss*(h2>0)\n",
    "    dw2= (2/n)*(a1.T@Loss)\n",
    "    db2= (2/n)*(torch.sum(Loss))\n",
    "\n",
    "    #hidden layer 1\n",
    "    Loss= Loss@w2.T\n",
    "    Loss= Loss*(h1>0)\n",
    "\n",
    "\n",
    "    dw1= (2/n)*(X_train_scaled.T@Loss)\n",
    "    db1= (2/n)*(torch.sum(Loss))\n",
    "\n",
    "    #update weights\n",
    "    w3-= lr*dw3\n",
    "    b3-= lr*db3\n",
    "\n",
    "    w2-= lr*dw2\n",
    "    b2-= lr*db2\n",
    "\n",
    "    w1-= lr*dw1\n",
    "    b1-= lr*db1\n",
    "\n",
    "    #validation loss\n",
    "    h1= X_val_scaled@ w1+b1\n",
    "    a1= relu(h1)\n",
    "\n",
    "    h2= a1@ w2+b2\n",
    "    a2= relu(h2)\n",
    "\n",
    "    y_pred= a2@ w3+b3\n",
    "\n",
    "    Loss= y_pred-y_val_scaled\n",
    "\n",
    "    mse_val= (1/n)*torch.sum(Loss**2)\n",
    "    val_loss.append(mse_val.item())\n",
    "    \n",
    "        \n",
    "    \n",
    "    \n",
    "    if epoch%100==0:\n",
    "        print(f'Epoch {epoch+1}, Training Loss {mse.item()}, Validation Loss {mse_val.item()}')"
   ]
  },
  {
   "cell_type": "code",
   "execution_count": 24,
   "metadata": {},
   "outputs": [
    {
     "data": {
      "image/png": "[encoded data removed]",
      "text/plain": [
       "<Figure size 1000x600 with 1 Axes>"
      ]
     },
     "metadata": {},
     "output_type": "display_data"
    }
   ],
   "source": [
    "plt.figure(figsize=(10, 6))\n",
    "plt.plot(range(epochs), train_loss, label=\"Training Loss\")\n",
    "plt.plot(range(epochs), val_loss, label=\"Validation Loss\")\n",
    "\n",
    "plt.title(\"Loss vs Epochs\")\n",
    "plt.xlabel(\"Epochs\")\n",
    "plt.ylabel(\"Loss\")\n",
    "plt.legend()\n",
    "plt.grid()\n",
    "plt.show()\n"
   ]
  },
  {
   "cell_type": "markdown",
   "metadata": {},
   "source": [
    "# Validation"
   ]
  },
  {
   "cell_type": "code",
   "execution_count": 25,
   "metadata": {},
   "outputs": [
    {
     "data": {
      "text/plain": [
       "0.8236828446388245"
      ]
     },
     "execution_count": 25,
     "metadata": {},
     "output_type": "execute_result"
    }
   ],
   "source": [
    "# R² Score Calculation\n",
    "\n",
    "# Predictions on test data\n",
    "h1 = X_test_scaled @ w1 + b1\n",
    "a1 = relu(h1)\n",
    "\n",
    "h2 = a1 @ w2 + b2\n",
    "a2 = relu(h2)\n",
    "\n",
    "y_pred = a2 @ w3 + b3\n",
    "\n",
    "# Calculate R² score\n",
    "r2 = r2_score(y_test_scaled, y_pred.detach().numpy())\n",
    "r2\n",
    "\n",
    "\n"
   ]
  },
  {
   "cell_type": "markdown",
   "metadata": {},
   "source": [
    "# save model"
   ]
  },
  {
   "cell_type": "code",
   "execution_count": 26,
   "metadata": {},
   "outputs": [],
   "source": [
    "# Save the ANN model weights and biases\n",
    "torch.save({\n",
    "    'w1': w1,\n",
    "    'b1': b1,\n",
    "    'w2': w2,\n",
    "    'b2': b2,\n",
    "    'w3': w3,\n",
    "    'b3': b3,\n",
    "}, 'ann_model.pth')\n"
   ]
  },
  {
   "cell_type": "markdown",
   "metadata": {},
   "source": [
    "<h2>Cross Validation for MSE"
   ]
  },
  {
   "cell_type": "code",
   "execution_count": 32,
   "metadata": {},
   "outputs": [
    {
     "name": "stderr",
     "output_type": "stream",
     "text": [
      "/tmp/ipykernel_1814/1931015947.py:2: UserWarning: To copy construct from a tensor, it is recommended to use sourceTensor.clone().detach() or sourceTensor.clone().detach().requires_grad_(True), rather than torch.tensor(sourceTensor).\n",
      "  X_scaled_tensor = torch.tensor(X_train_scaled, dtype=torch.float32)\n",
      "/tmp/ipykernel_1814/1931015947.py:3: UserWarning: To copy construct from a tensor, it is recommended to use sourceTensor.clone().detach() or sourceTensor.clone().detach().requires_grad_(True), rather than torch.tensor(sourceTensor).\n",
      "  y_scaled_tensor = torch.tensor(y_train_scaled, dtype=torch.float32)\n"
     ]
    },
    {
     "name": "stdout",
     "output_type": "stream",
     "text": [
      "Fold 1/5\n",
      "Fold 1 R²: 0.8424, MAE: 3564602.0000, MSE: 60618820288512.0000\n",
      "Fold 2/5\n",
      "Fold 2 R²: 0.7840, MAE: 4103562.5000, MSE: 71724829769728.0000\n",
      "Fold 3/5\n",
      "Fold 3 R²: 0.7858, MAE: 3388872.2500, MSE: 48726064234496.0000\n",
      "Fold 4/5\n",
      "Fold 4 R²: 0.8042, MAE: 3156285.2500, MSE: 32338836717568.0000\n",
      "Fold 5/5\n",
      "Fold 5 R²: 0.7695, MAE: 4165655.5000, MSE: 89202083495936.0000\n",
      "\n",
      "Average R² Across Folds: 0.7972\n",
      "Average MAE Across Folds: 3675795.5000\n",
      "Average MSE Across Folds: 60522128998400.0000\n"
     ]
    }
   ],
   "source": [
    "# Convert numpy arrays to tensors if not already done\n",
    "X_scaled_tensor = torch.tensor(X_train_scaled, dtype=torch.float32)\n",
    "y_scaled_tensor = torch.tensor(y_train_scaled, dtype=torch.float32)\n",
    "\n",
    "# K-Fold setup\n",
    "k = 5\n",
    "kf = KFold(n_splits=k, shuffle=True, random_state=42)\n",
    "\n",
    "cv_r2_scores = []\n",
    "cv_mae_scores = []\n",
    "cv_mse_scores = []\n",
    "\n",
    "for fold, (train_idx, val_idx) in enumerate(kf.split(X_scaled_tensor)):\n",
    "    print(f\"Fold {fold + 1}/{k}\")\n",
    "    \n",
    "    # Split into training and validation sets for this fold\n",
    "    X_train_fold = X_scaled_tensor[train_idx]\n",
    "    y_train_fold = y_scaled_tensor[train_idx]\n",
    "    X_val_fold = X_scaled_tensor[val_idx]\n",
    "    y_val_fold = y_scaled_tensor[val_idx]\n",
    "    \n",
    "    # Initialize weights and biases using Xavier initialization\n",
    "    n_hidden_1 = 64\n",
    "    n_hidden_2 = 32\n",
    "\n",
    "    w1 = torch.empty(X_train_fold.shape[1], n_hidden_1)\n",
    "    lim = xavier_init_uni(X_train_fold.shape[1], n_hidden_1)\n",
    "    w1.uniform_(-lim, lim)\n",
    "    b1 = torch.zeros(n_hidden_1)\n",
    "\n",
    "    w2 = torch.empty(n_hidden_1, n_hidden_2)\n",
    "    lim = xavier_init_uni(n_hidden_1, n_hidden_2)\n",
    "    w2.uniform_(-lim, lim)\n",
    "    b2 = torch.zeros(n_hidden_2)\n",
    "\n",
    "    w3 = torch.empty(n_hidden_2, 1)\n",
    "    lim = xavier_init_uni(n_hidden_2, 1)\n",
    "    w3.uniform_(-lim, lim)\n",
    "    b3 = torch.zeros(1)\n",
    "\n",
    "    # Training loop for the current fold\n",
    "    epochs = 2000\n",
    "    lr = 0.01\n",
    "    for epoch in range(epochs):\n",
    "        # Forward pass\n",
    "        h1 = X_train_fold @ w1 + b1\n",
    "        a1 = relu(h1)\n",
    "\n",
    "        h2 = a1 @ w2 + b2\n",
    "        a2 = relu(h2)\n",
    "\n",
    "        y_pred = a2 @ w3 + b3\n",
    "\n",
    "        # Loss calculation (MSE)\n",
    "        loss = y_pred - y_train_fold\n",
    "        n = len(y_train_fold)\n",
    "        mse = (1 / n) * torch.sum(loss**2)\n",
    "\n",
    "        # Backward pass and weight updates\n",
    "        # Output layer\n",
    "        dw3 = (2 / n) * (a2.T @ loss)\n",
    "        db3 = (2 / n) * torch.sum(loss)\n",
    "\n",
    "        # Hidden layer 2\n",
    "        loss = loss @ w3.T\n",
    "        loss = loss * (h2 > 0)\n",
    "        dw2 = (2 / n) * (a1.T @ loss)\n",
    "        db2 = (2 / n) * torch.sum(loss)\n",
    "\n",
    "        # Hidden layer 1\n",
    "        loss = loss @ w2.T\n",
    "        loss = loss * (h1 > 0)\n",
    "        dw1 = (2 / n) * (X_train_fold.T @ loss)\n",
    "        db1 = (2 / n) * torch.sum(loss)\n",
    "\n",
    "        # Update weights and biases\n",
    "        w3 -= lr * dw3\n",
    "        b3 -= lr * db3\n",
    "        w2 -= lr * dw2\n",
    "        b2 -= lr * db2\n",
    "        w1 -= lr * dw1\n",
    "        b1 -= lr * db1\n",
    "\n",
    "    # Validation step\n",
    "    h1 = X_val_fold @ w1 + b1\n",
    "    a1 = relu(h1)\n",
    "\n",
    "    h2 = a1 @ w2 + b2\n",
    "    a2 = relu(h2)\n",
    "\n",
    "    y_val_pred = a2 @ w3 + b3\n",
    "\n",
    "    # Inverse scaling (back to the original scale)\n",
    "    y_val_pred_scaled = y_val_pred.detach().numpy()\n",
    "    y_val_pred_original = scaler_y.inverse_transform(y_val_pred_scaled)\n",
    "\n",
    "    # Apply log inverse if the data was log-transformed (e.g., np.exp)\n",
    "    y_val_pred_original = np.exp(y_val_pred_original)  # Apply log inverse (exp)\n",
    "\n",
    "    y_val_original = scaler_y.inverse_transform(y_val_fold.detach().numpy())\n",
    "    y_val_original = np.exp(y_val_original)  # Apply log inverse (exp)\n",
    "\n",
    "    # R² calculation for the fold\n",
    "    ss_total = np.sum((y_val_original - np.mean(y_val_original))**2)\n",
    "    ss_residual = np.sum((y_val_original - y_val_pred_original) ** 2)\n",
    "    r2 = 1 - (ss_residual / ss_total)\n",
    "    cv_r2_scores.append(r2)\n",
    "    \n",
    "    # MAE and MSE in original scale\n",
    "    mae = mean_absolute_error(y_val_original, y_val_pred_original)\n",
    "    mse = mean_squared_error(y_val_original, y_val_pred_original)\n",
    "\n",
    "    cv_mae_scores.append(mae)\n",
    "    cv_mse_scores.append(mse)\n",
    "    \n",
    "    print(f\"Fold {fold + 1} R²: {r2:.4f}, MAE: {mae:.4f}, MSE: {mse:.4f}\")\n",
    "\n",
    "# Calculate and print the average scores across all folds\n",
    "mean_r2_score = np.mean(cv_r2_scores)\n",
    "mean_mae_score = np.mean(cv_mae_scores)\n",
    "mean_mse_score = np.mean(cv_mse_scores)\n",
    "\n",
    "print(f\"\\nAverage R² Across Folds: {mean_r2_score:.4f}\")\n",
    "print(f\"Average MAE Across Folds: {mean_mae_score:.4f}\")\n",
    "print(f\"Average MSE Across Folds: {mean_mse_score:.4f}\")\n"
   ]
  }
 ],
 "metadata": {
  "kernelspec": {
   "display_name": "bajra_venv",
   "language": "python",
   "name": "python3"
  },
  "language_info": {
   "codemirror_mode": {
    "name": "ipython",
    "version": 3
   },
   "file_extension": ".py",
   "mimetype": "text/x-python",
   "name": "python",
   "nbconvert_exporter": "python",
   "pygments_lexer": "ipython3",
   "version": "3.12.7"
  }
 },
 "nbformat": 4,
 "nbformat_minor": 2
}
